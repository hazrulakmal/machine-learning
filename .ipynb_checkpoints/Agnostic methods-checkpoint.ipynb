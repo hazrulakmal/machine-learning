{
 "cells": [
  {
   "cell_type": "markdown",
   "id": "cb315584",
   "metadata": {},
   "source": [
    "Here, we will explore vast array of methods that we can use to understand the underlying pattern in data and diagnose machine learning models. We are interested in how features individually and collectively impact the model prediction. Here are three agnostic methods we use to better understand the features.\n",
    "\n",
    "    1. Permutation Feature Importance (Rank how important features are independently and intuitively.''\n",
    "    2. Partial Dependency Plot (marginal contribution of each features towards model's prediction.\n",
    "    3. Individual Conditional Expectation (explain changes in prediction when a feature changes. "
   ]
  },
  {
   "cell_type": "markdown",
   "id": "85f1ba6d",
   "metadata": {},
   "source": [
    "Notes \n",
    "\n",
    "## PDP\n",
    "- plot PDP against features on a graph to interpret and analyse the model\n",
    "- The partial dependece function at a particulat value represnents the average prediction if we force all data points to assume that feature value. \n",
    "- how the average prediction in your dataset changes when the j-th feature is changed.\n",
    "\n",
    "Advantages\n",
    "- intituive and easy to implement \n",
    "- has a causal interpretation\n",
    "\n",
    "\n",
    "Disadvantages \n",
    "- A maximum number of features is 2\n",
    "- Features must be independent of the others\n",
    "- PD plots do not show the feature distribution. the dense the distribution, the more reliable the PDP value is at a certain point of the feature. \n",
    "- Heterogeneous effects might be hidden because PD plots only show the average marginal effects. Suppose that for a feature half your data points have a positive association with the prediction – the larger the feature value the larger the prediction – and the other half has a negative association – the smaller the feature value the larger the prediction. The PD curve could be a horizontal line, since the effects of both halves of the dataset could cancel each other out. You then conclude that the feature has no effect on the prediction. By plotting the **individual conditional expectation curves** instead of the aggregated line, we can uncover heterogeneous effects"
   ]
  },
  {
   "cell_type": "code",
   "execution_count": 9,
   "id": "f1562849",
   "metadata": {},
   "outputs": [],
   "source": [
    "import pandas as pd\n",
    "import numpy as np\n",
    "from sklearn.pipeline import make_pipeline\n",
    "from sklearn.preprocessing import StandardScaler, OneHotEncoder\n",
    "from sklearn.model_selection import train_test_split\n",
    "from sklearn import metrics, linear_model, tree, discriminant_analysis,\\\n",
    "                    ensemble, neural_network, inspection\n",
    "import matplotlib.pyplot as plt"
   ]
  },
  {
   "cell_type": "code",
   "execution_count": 10,
   "id": "de6185ce",
   "metadata": {
    "scrolled": true
   },
   "outputs": [
    {
     "name": "stdout",
     "output_type": "stream",
     "text": [
      "<class 'pandas.core.frame.DataFrame'>\n",
      "Int64Index: 1094 entries, 0 to 1459\n",
      "Data columns (total 75 columns):\n",
      " #   Column         Non-Null Count  Dtype  \n",
      "---  ------         --------------  -----  \n",
      " 0   MSSubClass     1094 non-null   int64  \n",
      " 1   MSZoning       1094 non-null   object \n",
      " 2   LotFrontage    1094 non-null   float64\n",
      " 3   LotArea        1094 non-null   int64  \n",
      " 4   Street         1094 non-null   object \n",
      " 5   LotShape       1094 non-null   object \n",
      " 6   LandContour    1094 non-null   object \n",
      " 7   Utilities      1094 non-null   object \n",
      " 8   LotConfig      1094 non-null   object \n",
      " 9   LandSlope      1094 non-null   object \n",
      " 10  Neighborhood   1094 non-null   object \n",
      " 11  Condition1     1094 non-null   object \n",
      " 12  Condition2     1094 non-null   object \n",
      " 13  BldgType       1094 non-null   object \n",
      " 14  HouseStyle     1094 non-null   object \n",
      " 15  OverallQual    1094 non-null   int64  \n",
      " 16  OverallCond    1094 non-null   int64  \n",
      " 17  YearBuilt      1094 non-null   int64  \n",
      " 18  YearRemodAdd   1094 non-null   int64  \n",
      " 19  RoofStyle      1094 non-null   object \n",
      " 20  RoofMatl       1094 non-null   object \n",
      " 21  Exterior1st    1094 non-null   object \n",
      " 22  Exterior2nd    1094 non-null   object \n",
      " 23  MasVnrType     1094 non-null   object \n",
      " 24  MasVnrArea     1094 non-null   float64\n",
      " 25  ExterQual      1094 non-null   object \n",
      " 26  ExterCond      1094 non-null   object \n",
      " 27  Foundation     1094 non-null   object \n",
      " 28  BsmtQual       1094 non-null   object \n",
      " 29  BsmtCond       1094 non-null   object \n",
      " 30  BsmtExposure   1094 non-null   object \n",
      " 31  BsmtFinType1   1094 non-null   object \n",
      " 32  BsmtFinSF1     1094 non-null   int64  \n",
      " 33  BsmtFinType2   1094 non-null   object \n",
      " 34  BsmtFinSF2     1094 non-null   int64  \n",
      " 35  BsmtUnfSF      1094 non-null   int64  \n",
      " 36  TotalBsmtSF    1094 non-null   int64  \n",
      " 37  Heating        1094 non-null   object \n",
      " 38  HeatingQC      1094 non-null   object \n",
      " 39  CentralAir     1094 non-null   object \n",
      " 40  Electrical     1094 non-null   object \n",
      " 41  1stFlrSF       1094 non-null   int64  \n",
      " 42  2ndFlrSF       1094 non-null   int64  \n",
      " 43  LowQualFinSF   1094 non-null   int64  \n",
      " 44  GrLivArea      1094 non-null   int64  \n",
      " 45  BsmtFullBath   1094 non-null   int64  \n",
      " 46  BsmtHalfBath   1094 non-null   int64  \n",
      " 47  FullBath       1094 non-null   int64  \n",
      " 48  HalfBath       1094 non-null   int64  \n",
      " 49  BedroomAbvGr   1094 non-null   int64  \n",
      " 50  KitchenAbvGr   1094 non-null   int64  \n",
      " 51  KitchenQual    1094 non-null   object \n",
      " 52  TotRmsAbvGrd   1094 non-null   int64  \n",
      " 53  Functional     1094 non-null   object \n",
      " 54  Fireplaces     1094 non-null   int64  \n",
      " 55  GarageType     1094 non-null   object \n",
      " 56  GarageYrBlt    1094 non-null   float64\n",
      " 57  GarageFinish   1094 non-null   object \n",
      " 58  GarageCars     1094 non-null   int64  \n",
      " 59  GarageArea     1094 non-null   int64  \n",
      " 60  GarageQual     1094 non-null   object \n",
      " 61  GarageCond     1094 non-null   object \n",
      " 62  PavedDrive     1094 non-null   object \n",
      " 63  WoodDeckSF     1094 non-null   int64  \n",
      " 64  OpenPorchSF    1094 non-null   int64  \n",
      " 65  EnclosedPorch  1094 non-null   int64  \n",
      " 66  3SsnPorch      1094 non-null   int64  \n",
      " 67  ScreenPorch    1094 non-null   int64  \n",
      " 68  PoolArea       1094 non-null   int64  \n",
      " 69  MiscVal        1094 non-null   int64  \n",
      " 70  MoSold         1094 non-null   int64  \n",
      " 71  YrSold         1094 non-null   int64  \n",
      " 72  SaleType       1094 non-null   object \n",
      " 73  SaleCondition  1094 non-null   object \n",
      " 74  SalePrice      1094 non-null   int64  \n",
      "dtypes: float64(3), int64(34), object(38)\n",
      "memory usage: 649.6+ KB\n"
     ]
    }
   ],
   "source": [
    "house =  pd.read_csv(\"src/train.csv\")\n",
    "ml_dt = house.drop([\"PoolQC\", \"Fence\", \"FireplaceQu\", \"Alley\", \"MiscFeature\", \"Id\"], axis=1)\n",
    "ml_dt = ml_dt.dropna()\n",
    "ml_dt.info()\n",
    "\n",
    "object_features = ml_dt.select_dtypes(include=['object'])\n",
    "numerical_features = ml_dt.select_dtypes(include=['int64', \"float64\"])"
   ]
  },
  {
   "cell_type": "code",
   "execution_count": 13,
   "id": "41d39bd9",
   "metadata": {},
   "outputs": [
    {
     "data": {
      "text/plain": [
       "Index(['MSZoning', 'Street', 'LotShape', 'LandContour', 'Utilities',\n",
       "       'LotConfig', 'LandSlope', 'Neighborhood', 'Condition1', 'Condition2',\n",
       "       'BldgType', 'HouseStyle', 'RoofStyle', 'RoofMatl', 'Exterior1st',\n",
       "       'Exterior2nd', 'MasVnrType', 'ExterQual', 'ExterCond', 'Foundation',\n",
       "       'BsmtQual', 'BsmtCond', 'BsmtExposure', 'BsmtFinType1', 'BsmtFinType2',\n",
       "       'Heating', 'HeatingQC', 'CentralAir', 'Electrical', 'KitchenQual',\n",
       "       'Functional', 'GarageType', 'GarageFinish', 'GarageQual', 'GarageCond',\n",
       "       'PavedDrive', 'SaleType', 'SaleCondition'],\n",
       "      dtype='object')"
      ]
     },
     "execution_count": 13,
     "metadata": {},
     "output_type": "execute_result"
    }
   ],
   "source": [
    "object_features[]"
   ]
  }
 ],
 "metadata": {
  "kernelspec": {
   "display_name": "Python 3 (ipykernel)",
   "language": "python",
   "name": "python3"
  },
  "language_info": {
   "codemirror_mode": {
    "name": "ipython",
    "version": 3
   },
   "file_extension": ".py",
   "mimetype": "text/x-python",
   "name": "python",
   "nbconvert_exporter": "python",
   "pygments_lexer": "ipython3",
   "version": "3.9.0"
  }
 },
 "nbformat": 4,
 "nbformat_minor": 5
}
