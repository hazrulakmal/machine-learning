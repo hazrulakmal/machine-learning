{
 "cells": [
  {
   "cell_type": "markdown",
   "id": "352a18ae",
   "metadata": {},
   "source": [
    "List of methods that help explain feature attributions of machine learning models\n",
    "\n",
    "Explain overall behavior of the model.\n",
    "\n",
    "     1. Partial Dependence Plots\n",
    "     2. Accumulated Local effects\n",
    "     3. Feature interactions\n",
    "     4. Global Surrogate Models\n",
    "     5. Prototypes and Criticisms\n",
    "     6. Permutation Feature Importance\n",
    "     \n",
    "Explain each individual prediction.\n",
    "\n",
    "    1. Shapley Value\n",
    "    2. Local Surrogate Models\n",
    "    3. Counterfactual explainations\n",
    "    4. Scoped Rules\n",
    "    \n",
    "Explain both overall model and individual features\n",
    "\n",
    "    1. Individual Conditional Expectation.\n",
    "    2. Influential Instances"
   ]
  }
 ],
 "metadata": {
  "kernelspec": {
   "display_name": "Python 3 (ipykernel)",
   "language": "python",
   "name": "python3"
  },
  "language_info": {
   "codemirror_mode": {
    "name": "ipython",
    "version": 3
   },
   "file_extension": ".py",
   "mimetype": "text/x-python",
   "name": "python",
   "nbconvert_exporter": "python",
   "pygments_lexer": "ipython3",
   "version": "3.9.0"
  }
 },
 "nbformat": 4,
 "nbformat_minor": 5
}
